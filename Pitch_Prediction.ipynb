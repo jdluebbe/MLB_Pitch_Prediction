{
  "nbformat": 4,
  "nbformat_minor": 0,
  "metadata": {
    "colab": {
      "name": "Pitch_Prediction.ipynb",
      "version": "0.3.2",
      "provenance": [],
      "include_colab_link": true
    },
    "kernelspec": {
      "name": "python3",
      "display_name": "Python 3"
    }
  },
  "cells": [
    {
      "cell_type": "markdown",
      "metadata": {
        "id": "view-in-github",
        "colab_type": "text"
      },
      "source": [
        "<a href=\"https://colab.research.google.com/github/jdluebbe/MLB_Pitch_Prediction/blob/master/Pitch_Prediction.ipynb\" target=\"_parent\"><img src=\"https://colab.research.google.com/assets/colab-badge.svg\" alt=\"Open In Colab\"/></a>"
      ]
    },
    {
      "metadata": {
        "id": "wiVOgnk7QTyr",
        "colab_type": "code",
        "colab": {}
      },
      "cell_type": "code",
      "source": [
        "import matplotlib as plt\n",
        "import numpy as np\n",
        "import pandas as pd"
      ],
      "execution_count": 0,
      "outputs": []
    },
    {
      "metadata": {
        "id": "-C77PfvFQ6SL",
        "colab_type": "code",
        "outputId": "c40bd065-4af5-45e9-c9d1-b225fc78adfa",
        "colab": {
          "base_uri": "https://localhost:8080/",
          "height": 34
        }
      },
      "cell_type": "code",
      "source": [
        "from google.colab import drive\n",
        "drive.mount('./DRIVE/', force_remount = True)"
      ],
      "execution_count": 2,
      "outputs": [
        {
          "output_type": "stream",
          "text": [
            "Mounted at ./DRIVE/\n"
          ],
          "name": "stdout"
        }
      ]
    },
    {
      "metadata": {
        "id": "ClPnCbwzb8Fe",
        "colab_type": "text"
      },
      "cell_type": "markdown",
      "source": [
        "Firstly, I must decide how to approach this problem. In a quick scan through the academic literature I came across this paper \"Using Multi-Class Classification Methods to Predict Baseball Pitch Types\" by Glenn Silde. In this paper he and his co-author explore several possible methods of predicting the next pitch a pitcher may throw. They applied multi-class SVM's, a neural network, random forest, and linear discriminate analysis. They're best performing model was their random forests models so this is route I chose to pursue."
      ]
    },
    {
      "metadata": {
        "id": "V8IpuVUo4XJ9",
        "colab_type": "code",
        "outputId": "b7723771-3107-4b8a-dc2a-488a1df0027b",
        "colab": {
          "base_uri": "https://localhost:8080/",
          "height": 70
        }
      },
      "cell_type": "code",
      "source": [
        "pitch = pd.read_csv('./DRIVE/My Drive/Pitches/pitches')"
      ],
      "execution_count": 3,
      "outputs": [
        {
          "output_type": "stream",
          "text": [
            "/usr/local/lib/python3.6/dist-packages/IPython/core/interactiveshell.py:2718: DtypeWarning: Columns (29,30) have mixed types. Specify dtype option on import or set low_memory=False.\n",
            "  interactivity=interactivity, compiler=compiler, result=result)\n"
          ],
          "name": "stderr"
        }
      ]
    },
    {
      "metadata": {
        "id": "GdJwdyo5AzPm",
        "colab_type": "code",
        "outputId": "46a22543-8607-47a5-b90d-02e5e1cad534",
        "colab": {
          "base_uri": "https://localhost:8080/",
          "height": 728
        }
      },
      "cell_type": "code",
      "source": [
        "pitch.head(10)"
      ],
      "execution_count": 4,
      "outputs": [
        {
          "output_type": "execute_result",
          "data": {
            "text/html": [
              "<div>\n",
              "<style scoped>\n",
              "    .dataframe tbody tr th:only-of-type {\n",
              "        vertical-align: middle;\n",
              "    }\n",
              "\n",
              "    .dataframe tbody tr th {\n",
              "        vertical-align: top;\n",
              "    }\n",
              "\n",
              "    .dataframe thead th {\n",
              "        text-align: right;\n",
              "    }\n",
              "</style>\n",
              "<table border=\"1\" class=\"dataframe\">\n",
              "  <thead>\n",
              "    <tr style=\"text-align: right;\">\n",
              "      <th></th>\n",
              "      <th>uid</th>\n",
              "      <th>game_pk</th>\n",
              "      <th>year</th>\n",
              "      <th>date</th>\n",
              "      <th>team_id_b</th>\n",
              "      <th>team_id_p</th>\n",
              "      <th>inning</th>\n",
              "      <th>top</th>\n",
              "      <th>at_bat_num</th>\n",
              "      <th>pcount_at_bat</th>\n",
              "      <th>...</th>\n",
              "      <th>runner7_start</th>\n",
              "      <th>runner7_end</th>\n",
              "      <th>runner7_event</th>\n",
              "      <th>runner7_score</th>\n",
              "      <th>runner7_rbi</th>\n",
              "      <th>runner7_earned</th>\n",
              "      <th>created_at</th>\n",
              "      <th>added_at</th>\n",
              "      <th>modified_at</th>\n",
              "      <th>modified_by</th>\n",
              "    </tr>\n",
              "  </thead>\n",
              "  <tbody>\n",
              "    <tr>\n",
              "      <th>0</th>\n",
              "      <td>14143226</td>\n",
              "      <td>286874</td>\n",
              "      <td>2011</td>\n",
              "      <td>2011-03-31</td>\n",
              "      <td>108</td>\n",
              "      <td>118</td>\n",
              "      <td>1</td>\n",
              "      <td>1</td>\n",
              "      <td>1</td>\n",
              "      <td>1</td>\n",
              "      <td>...</td>\n",
              "      <td>NaN</td>\n",
              "      <td>NaN</td>\n",
              "      <td>NaN</td>\n",
              "      <td>NaN</td>\n",
              "      <td>NaN</td>\n",
              "      <td>NaN</td>\n",
              "      <td>2016-03-03 21:33:20</td>\n",
              "      <td>2016-03-03 21:33:20</td>\n",
              "      <td>2016-03-03 21:33:20</td>\n",
              "      <td>1</td>\n",
              "    </tr>\n",
              "    <tr>\n",
              "      <th>1</th>\n",
              "      <td>14143227</td>\n",
              "      <td>286874</td>\n",
              "      <td>2011</td>\n",
              "      <td>2011-03-31</td>\n",
              "      <td>108</td>\n",
              "      <td>118</td>\n",
              "      <td>1</td>\n",
              "      <td>1</td>\n",
              "      <td>1</td>\n",
              "      <td>2</td>\n",
              "      <td>...</td>\n",
              "      <td>NaN</td>\n",
              "      <td>NaN</td>\n",
              "      <td>NaN</td>\n",
              "      <td>NaN</td>\n",
              "      <td>NaN</td>\n",
              "      <td>NaN</td>\n",
              "      <td>2016-03-03 21:33:20</td>\n",
              "      <td>2016-03-03 21:33:20</td>\n",
              "      <td>2016-03-03 21:33:20</td>\n",
              "      <td>1</td>\n",
              "    </tr>\n",
              "    <tr>\n",
              "      <th>2</th>\n",
              "      <td>14143228</td>\n",
              "      <td>286874</td>\n",
              "      <td>2011</td>\n",
              "      <td>2011-03-31</td>\n",
              "      <td>108</td>\n",
              "      <td>118</td>\n",
              "      <td>1</td>\n",
              "      <td>1</td>\n",
              "      <td>1</td>\n",
              "      <td>3</td>\n",
              "      <td>...</td>\n",
              "      <td>NaN</td>\n",
              "      <td>NaN</td>\n",
              "      <td>NaN</td>\n",
              "      <td>NaN</td>\n",
              "      <td>NaN</td>\n",
              "      <td>NaN</td>\n",
              "      <td>2016-03-03 21:33:20</td>\n",
              "      <td>2016-03-03 21:33:20</td>\n",
              "      <td>2016-03-03 21:33:20</td>\n",
              "      <td>1</td>\n",
              "    </tr>\n",
              "    <tr>\n",
              "      <th>3</th>\n",
              "      <td>14143229</td>\n",
              "      <td>286874</td>\n",
              "      <td>2011</td>\n",
              "      <td>2011-03-31</td>\n",
              "      <td>108</td>\n",
              "      <td>118</td>\n",
              "      <td>1</td>\n",
              "      <td>1</td>\n",
              "      <td>1</td>\n",
              "      <td>4</td>\n",
              "      <td>...</td>\n",
              "      <td>NaN</td>\n",
              "      <td>NaN</td>\n",
              "      <td>NaN</td>\n",
              "      <td>NaN</td>\n",
              "      <td>NaN</td>\n",
              "      <td>NaN</td>\n",
              "      <td>2016-03-03 21:33:20</td>\n",
              "      <td>2016-03-03 21:33:20</td>\n",
              "      <td>2016-03-03 21:33:20</td>\n",
              "      <td>1</td>\n",
              "    </tr>\n",
              "    <tr>\n",
              "      <th>4</th>\n",
              "      <td>14143230</td>\n",
              "      <td>286874</td>\n",
              "      <td>2011</td>\n",
              "      <td>2011-03-31</td>\n",
              "      <td>108</td>\n",
              "      <td>118</td>\n",
              "      <td>1</td>\n",
              "      <td>1</td>\n",
              "      <td>2</td>\n",
              "      <td>1</td>\n",
              "      <td>...</td>\n",
              "      <td>NaN</td>\n",
              "      <td>NaN</td>\n",
              "      <td>NaN</td>\n",
              "      <td>NaN</td>\n",
              "      <td>NaN</td>\n",
              "      <td>NaN</td>\n",
              "      <td>2016-03-03 21:33:20</td>\n",
              "      <td>2016-03-03 21:33:20</td>\n",
              "      <td>2016-03-03 21:33:20</td>\n",
              "      <td>1</td>\n",
              "    </tr>\n",
              "    <tr>\n",
              "      <th>5</th>\n",
              "      <td>14143231</td>\n",
              "      <td>286874</td>\n",
              "      <td>2011</td>\n",
              "      <td>2011-03-31</td>\n",
              "      <td>108</td>\n",
              "      <td>118</td>\n",
              "      <td>1</td>\n",
              "      <td>1</td>\n",
              "      <td>2</td>\n",
              "      <td>2</td>\n",
              "      <td>...</td>\n",
              "      <td>NaN</td>\n",
              "      <td>NaN</td>\n",
              "      <td>NaN</td>\n",
              "      <td>NaN</td>\n",
              "      <td>NaN</td>\n",
              "      <td>NaN</td>\n",
              "      <td>2016-03-03 21:33:20</td>\n",
              "      <td>2016-03-03 21:33:20</td>\n",
              "      <td>2016-03-03 21:33:20</td>\n",
              "      <td>1</td>\n",
              "    </tr>\n",
              "    <tr>\n",
              "      <th>6</th>\n",
              "      <td>14143232</td>\n",
              "      <td>286874</td>\n",
              "      <td>2011</td>\n",
              "      <td>2011-03-31</td>\n",
              "      <td>108</td>\n",
              "      <td>118</td>\n",
              "      <td>1</td>\n",
              "      <td>1</td>\n",
              "      <td>2</td>\n",
              "      <td>3</td>\n",
              "      <td>...</td>\n",
              "      <td>NaN</td>\n",
              "      <td>NaN</td>\n",
              "      <td>NaN</td>\n",
              "      <td>NaN</td>\n",
              "      <td>NaN</td>\n",
              "      <td>NaN</td>\n",
              "      <td>2016-03-03 21:33:20</td>\n",
              "      <td>2016-03-03 21:33:20</td>\n",
              "      <td>2016-03-03 21:33:20</td>\n",
              "      <td>1</td>\n",
              "    </tr>\n",
              "    <tr>\n",
              "      <th>7</th>\n",
              "      <td>14143233</td>\n",
              "      <td>286874</td>\n",
              "      <td>2011</td>\n",
              "      <td>2011-03-31</td>\n",
              "      <td>108</td>\n",
              "      <td>118</td>\n",
              "      <td>1</td>\n",
              "      <td>1</td>\n",
              "      <td>2</td>\n",
              "      <td>4</td>\n",
              "      <td>...</td>\n",
              "      <td>NaN</td>\n",
              "      <td>NaN</td>\n",
              "      <td>NaN</td>\n",
              "      <td>NaN</td>\n",
              "      <td>NaN</td>\n",
              "      <td>NaN</td>\n",
              "      <td>2016-03-03 21:33:20</td>\n",
              "      <td>2016-03-03 21:33:20</td>\n",
              "      <td>2016-03-03 21:33:20</td>\n",
              "      <td>1</td>\n",
              "    </tr>\n",
              "    <tr>\n",
              "      <th>8</th>\n",
              "      <td>14143234</td>\n",
              "      <td>286874</td>\n",
              "      <td>2011</td>\n",
              "      <td>2011-03-31</td>\n",
              "      <td>108</td>\n",
              "      <td>118</td>\n",
              "      <td>1</td>\n",
              "      <td>1</td>\n",
              "      <td>2</td>\n",
              "      <td>5</td>\n",
              "      <td>...</td>\n",
              "      <td>NaN</td>\n",
              "      <td>NaN</td>\n",
              "      <td>NaN</td>\n",
              "      <td>NaN</td>\n",
              "      <td>NaN</td>\n",
              "      <td>NaN</td>\n",
              "      <td>2016-03-03 21:33:20</td>\n",
              "      <td>2016-03-03 21:33:20</td>\n",
              "      <td>2016-03-03 21:33:20</td>\n",
              "      <td>1</td>\n",
              "    </tr>\n",
              "    <tr>\n",
              "      <th>9</th>\n",
              "      <td>14143235</td>\n",
              "      <td>286874</td>\n",
              "      <td>2011</td>\n",
              "      <td>2011-03-31</td>\n",
              "      <td>108</td>\n",
              "      <td>118</td>\n",
              "      <td>1</td>\n",
              "      <td>1</td>\n",
              "      <td>2</td>\n",
              "      <td>6</td>\n",
              "      <td>...</td>\n",
              "      <td>NaN</td>\n",
              "      <td>NaN</td>\n",
              "      <td>NaN</td>\n",
              "      <td>NaN</td>\n",
              "      <td>NaN</td>\n",
              "      <td>NaN</td>\n",
              "      <td>2016-03-03 21:33:20</td>\n",
              "      <td>2016-03-03 21:33:20</td>\n",
              "      <td>2016-03-03 21:33:20</td>\n",
              "      <td>1</td>\n",
              "    </tr>\n",
              "  </tbody>\n",
              "</table>\n",
              "<p>10 rows × 125 columns</p>\n",
              "</div>"
            ],
            "text/plain": [
              "        uid  game_pk  year        date  team_id_b  team_id_p  inning  top  \\\n",
              "0  14143226   286874  2011  2011-03-31        108        118       1    1   \n",
              "1  14143227   286874  2011  2011-03-31        108        118       1    1   \n",
              "2  14143228   286874  2011  2011-03-31        108        118       1    1   \n",
              "3  14143229   286874  2011  2011-03-31        108        118       1    1   \n",
              "4  14143230   286874  2011  2011-03-31        108        118       1    1   \n",
              "5  14143231   286874  2011  2011-03-31        108        118       1    1   \n",
              "6  14143232   286874  2011  2011-03-31        108        118       1    1   \n",
              "7  14143233   286874  2011  2011-03-31        108        118       1    1   \n",
              "8  14143234   286874  2011  2011-03-31        108        118       1    1   \n",
              "9  14143235   286874  2011  2011-03-31        108        118       1    1   \n",
              "\n",
              "   at_bat_num  pcount_at_bat     ...       runner7_start  runner7_end  \\\n",
              "0           1              1     ...                 NaN          NaN   \n",
              "1           1              2     ...                 NaN          NaN   \n",
              "2           1              3     ...                 NaN          NaN   \n",
              "3           1              4     ...                 NaN          NaN   \n",
              "4           2              1     ...                 NaN          NaN   \n",
              "5           2              2     ...                 NaN          NaN   \n",
              "6           2              3     ...                 NaN          NaN   \n",
              "7           2              4     ...                 NaN          NaN   \n",
              "8           2              5     ...                 NaN          NaN   \n",
              "9           2              6     ...                 NaN          NaN   \n",
              "\n",
              "   runner7_event  runner7_score  runner7_rbi  runner7_earned  \\\n",
              "0            NaN            NaN          NaN             NaN   \n",
              "1            NaN            NaN          NaN             NaN   \n",
              "2            NaN            NaN          NaN             NaN   \n",
              "3            NaN            NaN          NaN             NaN   \n",
              "4            NaN            NaN          NaN             NaN   \n",
              "5            NaN            NaN          NaN             NaN   \n",
              "6            NaN            NaN          NaN             NaN   \n",
              "7            NaN            NaN          NaN             NaN   \n",
              "8            NaN            NaN          NaN             NaN   \n",
              "9            NaN            NaN          NaN             NaN   \n",
              "\n",
              "            created_at             added_at          modified_at  modified_by  \n",
              "0  2016-03-03 21:33:20  2016-03-03 21:33:20  2016-03-03 21:33:20            1  \n",
              "1  2016-03-03 21:33:20  2016-03-03 21:33:20  2016-03-03 21:33:20            1  \n",
              "2  2016-03-03 21:33:20  2016-03-03 21:33:20  2016-03-03 21:33:20            1  \n",
              "3  2016-03-03 21:33:20  2016-03-03 21:33:20  2016-03-03 21:33:20            1  \n",
              "4  2016-03-03 21:33:20  2016-03-03 21:33:20  2016-03-03 21:33:20            1  \n",
              "5  2016-03-03 21:33:20  2016-03-03 21:33:20  2016-03-03 21:33:20            1  \n",
              "6  2016-03-03 21:33:20  2016-03-03 21:33:20  2016-03-03 21:33:20            1  \n",
              "7  2016-03-03 21:33:20  2016-03-03 21:33:20  2016-03-03 21:33:20            1  \n",
              "8  2016-03-03 21:33:20  2016-03-03 21:33:20  2016-03-03 21:33:20            1  \n",
              "9  2016-03-03 21:33:20  2016-03-03 21:33:20  2016-03-03 21:33:20            1  \n",
              "\n",
              "[10 rows x 125 columns]"
            ]
          },
          "metadata": {
            "tags": []
          },
          "execution_count": 4
        }
      ]
    },
    {
      "metadata": {
        "id": "QsqDV6UFuM1X",
        "colab_type": "code",
        "outputId": "81bcd135-bdc9-4513-aece-17c7d62429cd",
        "colab": {
          "base_uri": "https://localhost:8080/",
          "height": 333
        }
      },
      "cell_type": "code",
      "source": [
        "pitch.describe()"
      ],
      "execution_count": 5,
      "outputs": [
        {
          "output_type": "execute_result",
          "data": {
            "text/html": [
              "<div>\n",
              "<style scoped>\n",
              "    .dataframe tbody tr th:only-of-type {\n",
              "        vertical-align: middle;\n",
              "    }\n",
              "\n",
              "    .dataframe tbody tr th {\n",
              "        vertical-align: top;\n",
              "    }\n",
              "\n",
              "    .dataframe thead th {\n",
              "        text-align: right;\n",
              "    }\n",
              "</style>\n",
              "<table border=\"1\" class=\"dataframe\">\n",
              "  <thead>\n",
              "    <tr style=\"text-align: right;\">\n",
              "      <th></th>\n",
              "      <th>uid</th>\n",
              "      <th>game_pk</th>\n",
              "      <th>year</th>\n",
              "      <th>team_id_b</th>\n",
              "      <th>team_id_p</th>\n",
              "      <th>inning</th>\n",
              "      <th>top</th>\n",
              "      <th>at_bat_num</th>\n",
              "      <th>pcount_at_bat</th>\n",
              "      <th>pcount_pitcher</th>\n",
              "      <th>...</th>\n",
              "      <th>runner6_rbi</th>\n",
              "      <th>runner6_earned</th>\n",
              "      <th>runner7_id</th>\n",
              "      <th>runner7_start</th>\n",
              "      <th>runner7_end</th>\n",
              "      <th>runner7_event</th>\n",
              "      <th>runner7_score</th>\n",
              "      <th>runner7_rbi</th>\n",
              "      <th>runner7_earned</th>\n",
              "      <th>modified_by</th>\n",
              "    </tr>\n",
              "  </thead>\n",
              "  <tbody>\n",
              "    <tr>\n",
              "      <th>count</th>\n",
              "      <td>7.189610e+05</td>\n",
              "      <td>718961.000000</td>\n",
              "      <td>718961.0</td>\n",
              "      <td>718961.000000</td>\n",
              "      <td>718961.000000</td>\n",
              "      <td>718961.000000</td>\n",
              "      <td>718961.000000</td>\n",
              "      <td>718961.000000</td>\n",
              "      <td>718961.000000</td>\n",
              "      <td>718961.000000</td>\n",
              "      <td>...</td>\n",
              "      <td>0.0</td>\n",
              "      <td>0.0</td>\n",
              "      <td>0.0</td>\n",
              "      <td>0.0</td>\n",
              "      <td>0.0</td>\n",
              "      <td>0.0</td>\n",
              "      <td>0.0</td>\n",
              "      <td>0.0</td>\n",
              "      <td>0.0</td>\n",
              "      <td>718961.0</td>\n",
              "    </tr>\n",
              "    <tr>\n",
              "      <th>mean</th>\n",
              "      <td>1.701980e+07</td>\n",
              "      <td>288557.611823</td>\n",
              "      <td>2011.0</td>\n",
              "      <td>128.787182</td>\n",
              "      <td>128.757296</td>\n",
              "      <td>5.033796</td>\n",
              "      <td>0.508900</td>\n",
              "      <td>39.301513</td>\n",
              "      <td>2.865276</td>\n",
              "      <td>37.357196</td>\n",
              "      <td>...</td>\n",
              "      <td>NaN</td>\n",
              "      <td>NaN</td>\n",
              "      <td>NaN</td>\n",
              "      <td>NaN</td>\n",
              "      <td>NaN</td>\n",
              "      <td>NaN</td>\n",
              "      <td>NaN</td>\n",
              "      <td>NaN</td>\n",
              "      <td>NaN</td>\n",
              "      <td>1.0</td>\n",
              "    </tr>\n",
              "    <tr>\n",
              "      <th>std</th>\n",
              "      <td>1.665143e+06</td>\n",
              "      <td>3642.210956</td>\n",
              "      <td>0.0</td>\n",
              "      <td>14.281039</td>\n",
              "      <td>14.306711</td>\n",
              "      <td>2.692326</td>\n",
              "      <td>0.499921</td>\n",
              "      <td>23.320725</td>\n",
              "      <td>1.715068</td>\n",
              "      <td>30.690569</td>\n",
              "      <td>...</td>\n",
              "      <td>NaN</td>\n",
              "      <td>NaN</td>\n",
              "      <td>NaN</td>\n",
              "      <td>NaN</td>\n",
              "      <td>NaN</td>\n",
              "      <td>NaN</td>\n",
              "      <td>NaN</td>\n",
              "      <td>NaN</td>\n",
              "      <td>NaN</td>\n",
              "      <td>0.0</td>\n",
              "    </tr>\n",
              "    <tr>\n",
              "      <th>min</th>\n",
              "      <td>1.414323e+07</td>\n",
              "      <td>286874.000000</td>\n",
              "      <td>2011.0</td>\n",
              "      <td>108.000000</td>\n",
              "      <td>108.000000</td>\n",
              "      <td>1.000000</td>\n",
              "      <td>0.000000</td>\n",
              "      <td>1.000000</td>\n",
              "      <td>1.000000</td>\n",
              "      <td>1.000000</td>\n",
              "      <td>...</td>\n",
              "      <td>NaN</td>\n",
              "      <td>NaN</td>\n",
              "      <td>NaN</td>\n",
              "      <td>NaN</td>\n",
              "      <td>NaN</td>\n",
              "      <td>NaN</td>\n",
              "      <td>NaN</td>\n",
              "      <td>NaN</td>\n",
              "      <td>NaN</td>\n",
              "      <td>1.0</td>\n",
              "    </tr>\n",
              "    <tr>\n",
              "      <th>25%</th>\n",
              "      <td>1.557356e+07</td>\n",
              "      <td>287507.000000</td>\n",
              "      <td>2011.0</td>\n",
              "      <td>115.000000</td>\n",
              "      <td>115.000000</td>\n",
              "      <td>3.000000</td>\n",
              "      <td>0.000000</td>\n",
              "      <td>19.000000</td>\n",
              "      <td>1.000000</td>\n",
              "      <td>11.000000</td>\n",
              "      <td>...</td>\n",
              "      <td>NaN</td>\n",
              "      <td>NaN</td>\n",
              "      <td>NaN</td>\n",
              "      <td>NaN</td>\n",
              "      <td>NaN</td>\n",
              "      <td>NaN</td>\n",
              "      <td>NaN</td>\n",
              "      <td>NaN</td>\n",
              "      <td>NaN</td>\n",
              "      <td>1.0</td>\n",
              "    </tr>\n",
              "    <tr>\n",
              "      <th>50%</th>\n",
              "      <td>1.703106e+07</td>\n",
              "      <td>288129.000000</td>\n",
              "      <td>2011.0</td>\n",
              "      <td>134.000000</td>\n",
              "      <td>134.000000</td>\n",
              "      <td>5.000000</td>\n",
              "      <td>1.000000</td>\n",
              "      <td>39.000000</td>\n",
              "      <td>3.000000</td>\n",
              "      <td>28.000000</td>\n",
              "      <td>...</td>\n",
              "      <td>NaN</td>\n",
              "      <td>NaN</td>\n",
              "      <td>NaN</td>\n",
              "      <td>NaN</td>\n",
              "      <td>NaN</td>\n",
              "      <td>NaN</td>\n",
              "      <td>NaN</td>\n",
              "      <td>NaN</td>\n",
              "      <td>NaN</td>\n",
              "      <td>1.0</td>\n",
              "    </tr>\n",
              "    <tr>\n",
              "      <th>75%</th>\n",
              "      <td>1.845894e+07</td>\n",
              "      <td>288749.000000</td>\n",
              "      <td>2011.0</td>\n",
              "      <td>141.000000</td>\n",
              "      <td>141.000000</td>\n",
              "      <td>7.000000</td>\n",
              "      <td>1.000000</td>\n",
              "      <td>58.000000</td>\n",
              "      <td>4.000000</td>\n",
              "      <td>61.000000</td>\n",
              "      <td>...</td>\n",
              "      <td>NaN</td>\n",
              "      <td>NaN</td>\n",
              "      <td>NaN</td>\n",
              "      <td>NaN</td>\n",
              "      <td>NaN</td>\n",
              "      <td>NaN</td>\n",
              "      <td>NaN</td>\n",
              "      <td>NaN</td>\n",
              "      <td>NaN</td>\n",
              "      <td>1.0</td>\n",
              "    </tr>\n",
              "    <tr>\n",
              "      <th>max</th>\n",
              "      <td>1.983820e+07</td>\n",
              "      <td>317073.000000</td>\n",
              "      <td>2011.0</td>\n",
              "      <td>158.000000</td>\n",
              "      <td>158.000000</td>\n",
              "      <td>19.000000</td>\n",
              "      <td>1.000000</td>\n",
              "      <td>158.000000</td>\n",
              "      <td>16.000000</td>\n",
              "      <td>133.000000</td>\n",
              "      <td>...</td>\n",
              "      <td>NaN</td>\n",
              "      <td>NaN</td>\n",
              "      <td>NaN</td>\n",
              "      <td>NaN</td>\n",
              "      <td>NaN</td>\n",
              "      <td>NaN</td>\n",
              "      <td>NaN</td>\n",
              "      <td>NaN</td>\n",
              "      <td>NaN</td>\n",
              "      <td>1.0</td>\n",
              "    </tr>\n",
              "  </tbody>\n",
              "</table>\n",
              "<p>8 rows × 105 columns</p>\n",
              "</div>"
            ],
            "text/plain": [
              "                uid        game_pk      year      team_id_b      team_id_p  \\\n",
              "count  7.189610e+05  718961.000000  718961.0  718961.000000  718961.000000   \n",
              "mean   1.701980e+07  288557.611823    2011.0     128.787182     128.757296   \n",
              "std    1.665143e+06    3642.210956       0.0      14.281039      14.306711   \n",
              "min    1.414323e+07  286874.000000    2011.0     108.000000     108.000000   \n",
              "25%    1.557356e+07  287507.000000    2011.0     115.000000     115.000000   \n",
              "50%    1.703106e+07  288129.000000    2011.0     134.000000     134.000000   \n",
              "75%    1.845894e+07  288749.000000    2011.0     141.000000     141.000000   \n",
              "max    1.983820e+07  317073.000000    2011.0     158.000000     158.000000   \n",
              "\n",
              "              inning            top     at_bat_num  pcount_at_bat  \\\n",
              "count  718961.000000  718961.000000  718961.000000  718961.000000   \n",
              "mean        5.033796       0.508900      39.301513       2.865276   \n",
              "std         2.692326       0.499921      23.320725       1.715068   \n",
              "min         1.000000       0.000000       1.000000       1.000000   \n",
              "25%         3.000000       0.000000      19.000000       1.000000   \n",
              "50%         5.000000       1.000000      39.000000       3.000000   \n",
              "75%         7.000000       1.000000      58.000000       4.000000   \n",
              "max        19.000000       1.000000     158.000000      16.000000   \n",
              "\n",
              "       pcount_pitcher     ...       runner6_rbi  runner6_earned  runner7_id  \\\n",
              "count   718961.000000     ...               0.0             0.0         0.0   \n",
              "mean        37.357196     ...               NaN             NaN         NaN   \n",
              "std         30.690569     ...               NaN             NaN         NaN   \n",
              "min          1.000000     ...               NaN             NaN         NaN   \n",
              "25%         11.000000     ...               NaN             NaN         NaN   \n",
              "50%         28.000000     ...               NaN             NaN         NaN   \n",
              "75%         61.000000     ...               NaN             NaN         NaN   \n",
              "max        133.000000     ...               NaN             NaN         NaN   \n",
              "\n",
              "       runner7_start  runner7_end  runner7_event  runner7_score  runner7_rbi  \\\n",
              "count            0.0          0.0            0.0            0.0          0.0   \n",
              "mean             NaN          NaN            NaN            NaN          NaN   \n",
              "std              NaN          NaN            NaN            NaN          NaN   \n",
              "min              NaN          NaN            NaN            NaN          NaN   \n",
              "25%              NaN          NaN            NaN            NaN          NaN   \n",
              "50%              NaN          NaN            NaN            NaN          NaN   \n",
              "75%              NaN          NaN            NaN            NaN          NaN   \n",
              "max              NaN          NaN            NaN            NaN          NaN   \n",
              "\n",
              "       runner7_earned  modified_by  \n",
              "count             0.0     718961.0  \n",
              "mean              NaN          1.0  \n",
              "std               NaN          0.0  \n",
              "min               NaN          1.0  \n",
              "25%               NaN          1.0  \n",
              "50%               NaN          1.0  \n",
              "75%               NaN          1.0  \n",
              "max               NaN          1.0  \n",
              "\n",
              "[8 rows x 105 columns]"
            ]
          },
          "metadata": {
            "tags": []
          },
          "execution_count": 5
        }
      ]
    },
    {
      "metadata": {
        "id": "NQJPQRCM6iWt",
        "colab_type": "code",
        "outputId": "1cc9859e-e838-4eb8-b3f6-cbbb026ec110",
        "colab": {
          "base_uri": "https://localhost:8080/",
          "height": 34
        }
      },
      "cell_type": "code",
      "source": [
        "pitch.shape"
      ],
      "execution_count": 6,
      "outputs": [
        {
          "output_type": "execute_result",
          "data": {
            "text/plain": [
              "(718961, 125)"
            ]
          },
          "metadata": {
            "tags": []
          },
          "execution_count": 6
        }
      ]
    },
    {
      "metadata": {
        "id": "MQr5MrD7A3Eb",
        "colab_type": "code",
        "outputId": "0bce9f5e-7076-4263-a428-16b1b525cac6",
        "colab": {
          "base_uri": "https://localhost:8080/",
          "height": 728
        }
      },
      "cell_type": "code",
      "source": [
        "pitch.tail(10)"
      ],
      "execution_count": 7,
      "outputs": [
        {
          "output_type": "execute_result",
          "data": {
            "text/html": [
              "<div>\n",
              "<style scoped>\n",
              "    .dataframe tbody tr th:only-of-type {\n",
              "        vertical-align: middle;\n",
              "    }\n",
              "\n",
              "    .dataframe tbody tr th {\n",
              "        vertical-align: top;\n",
              "    }\n",
              "\n",
              "    .dataframe thead th {\n",
              "        text-align: right;\n",
              "    }\n",
              "</style>\n",
              "<table border=\"1\" class=\"dataframe\">\n",
              "  <thead>\n",
              "    <tr style=\"text-align: right;\">\n",
              "      <th></th>\n",
              "      <th>uid</th>\n",
              "      <th>game_pk</th>\n",
              "      <th>year</th>\n",
              "      <th>date</th>\n",
              "      <th>team_id_b</th>\n",
              "      <th>team_id_p</th>\n",
              "      <th>inning</th>\n",
              "      <th>top</th>\n",
              "      <th>at_bat_num</th>\n",
              "      <th>pcount_at_bat</th>\n",
              "      <th>...</th>\n",
              "      <th>runner7_start</th>\n",
              "      <th>runner7_end</th>\n",
              "      <th>runner7_event</th>\n",
              "      <th>runner7_score</th>\n",
              "      <th>runner7_rbi</th>\n",
              "      <th>runner7_earned</th>\n",
              "      <th>created_at</th>\n",
              "      <th>added_at</th>\n",
              "      <th>modified_at</th>\n",
              "      <th>modified_by</th>\n",
              "    </tr>\n",
              "  </thead>\n",
              "  <tbody>\n",
              "    <tr>\n",
              "      <th>718951</th>\n",
              "      <td>19838187</td>\n",
              "      <td>317073</td>\n",
              "      <td>2011</td>\n",
              "      <td>2011-10-28</td>\n",
              "      <td>140</td>\n",
              "      <td>138</td>\n",
              "      <td>9</td>\n",
              "      <td>1</td>\n",
              "      <td>71</td>\n",
              "      <td>2</td>\n",
              "      <td>...</td>\n",
              "      <td>NaN</td>\n",
              "      <td>NaN</td>\n",
              "      <td>NaN</td>\n",
              "      <td>NaN</td>\n",
              "      <td>NaN</td>\n",
              "      <td>NaN</td>\n",
              "      <td>2016-03-03 22:23:19</td>\n",
              "      <td>2016-03-03 22:23:19</td>\n",
              "      <td>2016-03-03 22:23:19</td>\n",
              "      <td>1</td>\n",
              "    </tr>\n",
              "    <tr>\n",
              "      <th>718952</th>\n",
              "      <td>19838188</td>\n",
              "      <td>317073</td>\n",
              "      <td>2011</td>\n",
              "      <td>2011-10-28</td>\n",
              "      <td>140</td>\n",
              "      <td>138</td>\n",
              "      <td>9</td>\n",
              "      <td>1</td>\n",
              "      <td>71</td>\n",
              "      <td>3</td>\n",
              "      <td>...</td>\n",
              "      <td>NaN</td>\n",
              "      <td>NaN</td>\n",
              "      <td>NaN</td>\n",
              "      <td>NaN</td>\n",
              "      <td>NaN</td>\n",
              "      <td>NaN</td>\n",
              "      <td>2016-03-03 22:23:19</td>\n",
              "      <td>2016-03-03 22:23:19</td>\n",
              "      <td>2016-03-03 22:23:19</td>\n",
              "      <td>1</td>\n",
              "    </tr>\n",
              "    <tr>\n",
              "      <th>718953</th>\n",
              "      <td>19838189</td>\n",
              "      <td>317073</td>\n",
              "      <td>2011</td>\n",
              "      <td>2011-10-28</td>\n",
              "      <td>140</td>\n",
              "      <td>138</td>\n",
              "      <td>9</td>\n",
              "      <td>1</td>\n",
              "      <td>71</td>\n",
              "      <td>4</td>\n",
              "      <td>...</td>\n",
              "      <td>NaN</td>\n",
              "      <td>NaN</td>\n",
              "      <td>NaN</td>\n",
              "      <td>NaN</td>\n",
              "      <td>NaN</td>\n",
              "      <td>NaN</td>\n",
              "      <td>2016-03-03 22:23:19</td>\n",
              "      <td>2016-03-03 22:23:19</td>\n",
              "      <td>2016-03-03 22:23:19</td>\n",
              "      <td>1</td>\n",
              "    </tr>\n",
              "    <tr>\n",
              "      <th>718954</th>\n",
              "      <td>19838190</td>\n",
              "      <td>317073</td>\n",
              "      <td>2011</td>\n",
              "      <td>2011-10-28</td>\n",
              "      <td>140</td>\n",
              "      <td>138</td>\n",
              "      <td>9</td>\n",
              "      <td>1</td>\n",
              "      <td>72</td>\n",
              "      <td>1</td>\n",
              "      <td>...</td>\n",
              "      <td>NaN</td>\n",
              "      <td>NaN</td>\n",
              "      <td>NaN</td>\n",
              "      <td>NaN</td>\n",
              "      <td>NaN</td>\n",
              "      <td>NaN</td>\n",
              "      <td>2016-03-03 22:23:19</td>\n",
              "      <td>2016-03-03 22:23:19</td>\n",
              "      <td>2016-03-03 22:23:19</td>\n",
              "      <td>1</td>\n",
              "    </tr>\n",
              "    <tr>\n",
              "      <th>718955</th>\n",
              "      <td>19838191</td>\n",
              "      <td>317073</td>\n",
              "      <td>2011</td>\n",
              "      <td>2011-10-28</td>\n",
              "      <td>140</td>\n",
              "      <td>138</td>\n",
              "      <td>9</td>\n",
              "      <td>1</td>\n",
              "      <td>72</td>\n",
              "      <td>2</td>\n",
              "      <td>...</td>\n",
              "      <td>NaN</td>\n",
              "      <td>NaN</td>\n",
              "      <td>NaN</td>\n",
              "      <td>NaN</td>\n",
              "      <td>NaN</td>\n",
              "      <td>NaN</td>\n",
              "      <td>2016-03-03 22:23:19</td>\n",
              "      <td>2016-03-03 22:23:19</td>\n",
              "      <td>2016-03-03 22:23:19</td>\n",
              "      <td>1</td>\n",
              "    </tr>\n",
              "    <tr>\n",
              "      <th>718956</th>\n",
              "      <td>19838192</td>\n",
              "      <td>317073</td>\n",
              "      <td>2011</td>\n",
              "      <td>2011-10-28</td>\n",
              "      <td>140</td>\n",
              "      <td>138</td>\n",
              "      <td>9</td>\n",
              "      <td>1</td>\n",
              "      <td>72</td>\n",
              "      <td>3</td>\n",
              "      <td>...</td>\n",
              "      <td>NaN</td>\n",
              "      <td>NaN</td>\n",
              "      <td>NaN</td>\n",
              "      <td>NaN</td>\n",
              "      <td>NaN</td>\n",
              "      <td>NaN</td>\n",
              "      <td>2016-03-03 22:23:19</td>\n",
              "      <td>2016-03-03 22:23:19</td>\n",
              "      <td>2016-03-03 22:23:19</td>\n",
              "      <td>1</td>\n",
              "    </tr>\n",
              "    <tr>\n",
              "      <th>718957</th>\n",
              "      <td>19838193</td>\n",
              "      <td>317073</td>\n",
              "      <td>2011</td>\n",
              "      <td>2011-10-28</td>\n",
              "      <td>140</td>\n",
              "      <td>138</td>\n",
              "      <td>9</td>\n",
              "      <td>1</td>\n",
              "      <td>72</td>\n",
              "      <td>4</td>\n",
              "      <td>...</td>\n",
              "      <td>NaN</td>\n",
              "      <td>NaN</td>\n",
              "      <td>NaN</td>\n",
              "      <td>NaN</td>\n",
              "      <td>NaN</td>\n",
              "      <td>NaN</td>\n",
              "      <td>2016-03-03 22:23:19</td>\n",
              "      <td>2016-03-03 22:23:19</td>\n",
              "      <td>2016-03-03 22:23:19</td>\n",
              "      <td>1</td>\n",
              "    </tr>\n",
              "    <tr>\n",
              "      <th>718958</th>\n",
              "      <td>19838194</td>\n",
              "      <td>317073</td>\n",
              "      <td>2011</td>\n",
              "      <td>2011-10-28</td>\n",
              "      <td>140</td>\n",
              "      <td>138</td>\n",
              "      <td>9</td>\n",
              "      <td>1</td>\n",
              "      <td>72</td>\n",
              "      <td>5</td>\n",
              "      <td>...</td>\n",
              "      <td>NaN</td>\n",
              "      <td>NaN</td>\n",
              "      <td>NaN</td>\n",
              "      <td>NaN</td>\n",
              "      <td>NaN</td>\n",
              "      <td>NaN</td>\n",
              "      <td>2016-03-03 22:23:19</td>\n",
              "      <td>2016-03-03 22:23:19</td>\n",
              "      <td>2016-03-03 22:23:19</td>\n",
              "      <td>1</td>\n",
              "    </tr>\n",
              "    <tr>\n",
              "      <th>718959</th>\n",
              "      <td>19838195</td>\n",
              "      <td>317073</td>\n",
              "      <td>2011</td>\n",
              "      <td>2011-10-28</td>\n",
              "      <td>140</td>\n",
              "      <td>138</td>\n",
              "      <td>9</td>\n",
              "      <td>1</td>\n",
              "      <td>73</td>\n",
              "      <td>1</td>\n",
              "      <td>...</td>\n",
              "      <td>NaN</td>\n",
              "      <td>NaN</td>\n",
              "      <td>NaN</td>\n",
              "      <td>NaN</td>\n",
              "      <td>NaN</td>\n",
              "      <td>NaN</td>\n",
              "      <td>2016-03-03 22:23:19</td>\n",
              "      <td>2016-03-03 22:23:19</td>\n",
              "      <td>2016-03-03 22:23:19</td>\n",
              "      <td>1</td>\n",
              "    </tr>\n",
              "    <tr>\n",
              "      <th>718960</th>\n",
              "      <td>19838196</td>\n",
              "      <td>317073</td>\n",
              "      <td>2011</td>\n",
              "      <td>2011-10-28</td>\n",
              "      <td>140</td>\n",
              "      <td>138</td>\n",
              "      <td>9</td>\n",
              "      <td>1</td>\n",
              "      <td>73</td>\n",
              "      <td>2</td>\n",
              "      <td>...</td>\n",
              "      <td>NaN</td>\n",
              "      <td>NaN</td>\n",
              "      <td>NaN</td>\n",
              "      <td>NaN</td>\n",
              "      <td>NaN</td>\n",
              "      <td>NaN</td>\n",
              "      <td>2016-03-03 22:23:19</td>\n",
              "      <td>2016-03-03 22:23:19</td>\n",
              "      <td>2016-03-03 22:23:19</td>\n",
              "      <td>1</td>\n",
              "    </tr>\n",
              "  </tbody>\n",
              "</table>\n",
              "<p>10 rows × 125 columns</p>\n",
              "</div>"
            ],
            "text/plain": [
              "             uid  game_pk  year        date  team_id_b  team_id_p  inning  \\\n",
              "718951  19838187   317073  2011  2011-10-28        140        138       9   \n",
              "718952  19838188   317073  2011  2011-10-28        140        138       9   \n",
              "718953  19838189   317073  2011  2011-10-28        140        138       9   \n",
              "718954  19838190   317073  2011  2011-10-28        140        138       9   \n",
              "718955  19838191   317073  2011  2011-10-28        140        138       9   \n",
              "718956  19838192   317073  2011  2011-10-28        140        138       9   \n",
              "718957  19838193   317073  2011  2011-10-28        140        138       9   \n",
              "718958  19838194   317073  2011  2011-10-28        140        138       9   \n",
              "718959  19838195   317073  2011  2011-10-28        140        138       9   \n",
              "718960  19838196   317073  2011  2011-10-28        140        138       9   \n",
              "\n",
              "        top  at_bat_num  pcount_at_bat     ...       runner7_start  \\\n",
              "718951    1          71              2     ...                 NaN   \n",
              "718952    1          71              3     ...                 NaN   \n",
              "718953    1          71              4     ...                 NaN   \n",
              "718954    1          72              1     ...                 NaN   \n",
              "718955    1          72              2     ...                 NaN   \n",
              "718956    1          72              3     ...                 NaN   \n",
              "718957    1          72              4     ...                 NaN   \n",
              "718958    1          72              5     ...                 NaN   \n",
              "718959    1          73              1     ...                 NaN   \n",
              "718960    1          73              2     ...                 NaN   \n",
              "\n",
              "        runner7_end  runner7_event  runner7_score  runner7_rbi  \\\n",
              "718951          NaN            NaN            NaN          NaN   \n",
              "718952          NaN            NaN            NaN          NaN   \n",
              "718953          NaN            NaN            NaN          NaN   \n",
              "718954          NaN            NaN            NaN          NaN   \n",
              "718955          NaN            NaN            NaN          NaN   \n",
              "718956          NaN            NaN            NaN          NaN   \n",
              "718957          NaN            NaN            NaN          NaN   \n",
              "718958          NaN            NaN            NaN          NaN   \n",
              "718959          NaN            NaN            NaN          NaN   \n",
              "718960          NaN            NaN            NaN          NaN   \n",
              "\n",
              "        runner7_earned           created_at             added_at  \\\n",
              "718951             NaN  2016-03-03 22:23:19  2016-03-03 22:23:19   \n",
              "718952             NaN  2016-03-03 22:23:19  2016-03-03 22:23:19   \n",
              "718953             NaN  2016-03-03 22:23:19  2016-03-03 22:23:19   \n",
              "718954             NaN  2016-03-03 22:23:19  2016-03-03 22:23:19   \n",
              "718955             NaN  2016-03-03 22:23:19  2016-03-03 22:23:19   \n",
              "718956             NaN  2016-03-03 22:23:19  2016-03-03 22:23:19   \n",
              "718957             NaN  2016-03-03 22:23:19  2016-03-03 22:23:19   \n",
              "718958             NaN  2016-03-03 22:23:19  2016-03-03 22:23:19   \n",
              "718959             NaN  2016-03-03 22:23:19  2016-03-03 22:23:19   \n",
              "718960             NaN  2016-03-03 22:23:19  2016-03-03 22:23:19   \n",
              "\n",
              "                modified_at  modified_by  \n",
              "718951  2016-03-03 22:23:19            1  \n",
              "718952  2016-03-03 22:23:19            1  \n",
              "718953  2016-03-03 22:23:19            1  \n",
              "718954  2016-03-03 22:23:19            1  \n",
              "718955  2016-03-03 22:23:19            1  \n",
              "718956  2016-03-03 22:23:19            1  \n",
              "718957  2016-03-03 22:23:19            1  \n",
              "718958  2016-03-03 22:23:19            1  \n",
              "718959  2016-03-03 22:23:19            1  \n",
              "718960  2016-03-03 22:23:19            1  \n",
              "\n",
              "[10 rows x 125 columns]"
            ]
          },
          "metadata": {
            "tags": []
          },
          "execution_count": 7
        }
      ]
    },
    {
      "metadata": {
        "id": "lRXXqgfgcXdr",
        "colab_type": "text"
      },
      "cell_type": "markdown",
      "source": [
        "Now that I have identified the data containing the labels that I wish to predict. I will clean up the remaining data by dropping Null values, and columns unrelated to pitch prediction."
      ]
    },
    {
      "metadata": {
        "id": "DQH3W3vc7tL2",
        "colab_type": "code",
        "outputId": "f3fbc803-e9bb-44ae-c502-6429e20e4a26",
        "colab": {
          "base_uri": "https://localhost:8080/",
          "height": 202
        }
      },
      "cell_type": "code",
      "source": [
        "pitch['pitch_type'][100:110]"
      ],
      "execution_count": 8,
      "outputs": [
        {
          "output_type": "execute_result",
          "data": {
            "text/plain": [
              "100    FF\n",
              "101    FF\n",
              "102    FF\n",
              "103    SI\n",
              "104    CH\n",
              "105    FF\n",
              "106    SI\n",
              "107    FC\n",
              "108    FC\n",
              "109    FF\n",
              "Name: pitch_type, dtype: object"
            ]
          },
          "metadata": {
            "tags": []
          },
          "execution_count": 8
        }
      ]
    },
    {
      "metadata": {
        "id": "A5QXg1SNSsBw",
        "colab_type": "text"
      },
      "cell_type": "markdown",
      "source": [
        "Since I will be using pitch_type as my label any rows that are missing a value will be useless for prediction, so I'm going to drop those rows from the dataset."
      ]
    },
    {
      "metadata": {
        "id": "_eG1DB7tbuZu",
        "colab_type": "code",
        "colab": {}
      },
      "cell_type": "code",
      "source": [
        "pitch = pitch.dropna(subset=['pitch_type'])"
      ],
      "execution_count": 0,
      "outputs": []
    },
    {
      "metadata": {
        "id": "tXGhF1cHdQZK",
        "colab_type": "code",
        "colab": {
          "base_uri": "https://localhost:8080/",
          "height": 50
        },
        "outputId": "e5ed2fd0-68c9-44bd-9cdf-90054cca8602"
      },
      "cell_type": "code",
      "source": [
        "print(pitch['pitch_type'].isna().any())\n",
        "print(len(pitch['pitch_type']))"
      ],
      "execution_count": 10,
      "outputs": [
        {
          "output_type": "stream",
          "text": [
            "False\n",
            "716681\n"
          ],
          "name": "stdout"
        }
      ]
    },
    {
      "metadata": {
        "id": "mx93KpqraHuV",
        "colab_type": "code",
        "colab": {}
      },
      "cell_type": "code",
      "source": [
        "pitch_clean = pitch.drop(\n",
        "    ['runner1_id', 'runner1_start', 'runner1_end', 'runner1_event', 'runner1_score',\n",
        "     'runner1_rbi', 'runner1_earned', 'runner2_id', 'runner2_start', 'runner2_end', 'runner2_event', 'runner2_score', 'runner2_rbi', 'runner2_earned',\n",
        "     'runner3_id', 'runner3_start', 'runner3_end', 'runner3_event', 'runner3_score', 'runner3_rbi', 'runner3_earned', 'runner4_id', 'runner4_start', 'runner4_end',\n",
        "     'runner4_event', 'runner4_score', 'runner4_rbi',\n",
        "     'runner4_earned', 'runner5_id', 'runner5_start', 'runner5_end', 'runner5_event', 'runner5_score', 'runner5_rbi', 'runner5_earned', 'runner6_id', 'runner6_start',\n",
        "     'runner6_end', 'runner6_event', 'runner6_score', 'on_1b', 'on_2b', 'on_3b', 'runner6_rbi', 'runner6_earned', 'runner7_id', 'runner7_start', 'runner7_end', 'runner7_event',\n",
        "     'runner7_score',\n",
        "     'runner7_rbi', 'runner7_earned', 'pitch_tfs_zulu', 'cc', 'pitch_type', 'sv_id', 'date', 'b_height', 'pitch_tfs', 'start_tfs_zulu', 'at_bat_des', 'created_at', 'added_at', 'modified_at',\n",
        "     'event2', 'event3', 'event4', 'score', 'uid', 'game_pk'], axis=1)"
      ],
      "execution_count": 0,
      "outputs": []
    },
    {
      "metadata": {
        "id": "cwVtM6bDo0i7",
        "colab_type": "code",
        "outputId": "eaea96bd-9f40-4e2f-b77d-52fc01e341c3",
        "colab": {
          "base_uri": "https://localhost:8080/",
          "height": 185
        }
      },
      "cell_type": "code",
      "source": [
        "pitch_clean.head(3)"
      ],
      "execution_count": 12,
      "outputs": [
        {
          "output_type": "execute_result",
          "data": {
            "text/html": [
              "<div>\n",
              "<style scoped>\n",
              "    .dataframe tbody tr th:only-of-type {\n",
              "        vertical-align: middle;\n",
              "    }\n",
              "\n",
              "    .dataframe tbody tr th {\n",
              "        vertical-align: top;\n",
              "    }\n",
              "\n",
              "    .dataframe thead th {\n",
              "        text-align: right;\n",
              "    }\n",
              "</style>\n",
              "<table border=\"1\" class=\"dataframe\">\n",
              "  <thead>\n",
              "    <tr style=\"text-align: right;\">\n",
              "      <th></th>\n",
              "      <th>year</th>\n",
              "      <th>team_id_b</th>\n",
              "      <th>team_id_p</th>\n",
              "      <th>inning</th>\n",
              "      <th>top</th>\n",
              "      <th>at_bat_num</th>\n",
              "      <th>pcount_at_bat</th>\n",
              "      <th>pcount_pitcher</th>\n",
              "      <th>balls</th>\n",
              "      <th>strikes</th>\n",
              "      <th>...</th>\n",
              "      <th>ay</th>\n",
              "      <th>break_length</th>\n",
              "      <th>break_y</th>\n",
              "      <th>break_angle</th>\n",
              "      <th>type_confidence</th>\n",
              "      <th>zone</th>\n",
              "      <th>nasty</th>\n",
              "      <th>spin_dir</th>\n",
              "      <th>spin_rate</th>\n",
              "      <th>modified_by</th>\n",
              "    </tr>\n",
              "  </thead>\n",
              "  <tbody>\n",
              "    <tr>\n",
              "      <th>26</th>\n",
              "      <td>2011</td>\n",
              "      <td>118</td>\n",
              "      <td>108</td>\n",
              "      <td>1</td>\n",
              "      <td>0</td>\n",
              "      <td>7</td>\n",
              "      <td>1</td>\n",
              "      <td>1</td>\n",
              "      <td>0</td>\n",
              "      <td>0</td>\n",
              "      <td>...</td>\n",
              "      <td>22.579</td>\n",
              "      <td>2.8</td>\n",
              "      <td>23.9</td>\n",
              "      <td>-0.7</td>\n",
              "      <td>2.0</td>\n",
              "      <td>8.0</td>\n",
              "      <td>47.0</td>\n",
              "      <td>183.148</td>\n",
              "      <td>2519.455</td>\n",
              "      <td>1</td>\n",
              "    </tr>\n",
              "    <tr>\n",
              "      <th>27</th>\n",
              "      <td>2011</td>\n",
              "      <td>118</td>\n",
              "      <td>108</td>\n",
              "      <td>1</td>\n",
              "      <td>0</td>\n",
              "      <td>7</td>\n",
              "      <td>2</td>\n",
              "      <td>2</td>\n",
              "      <td>0</td>\n",
              "      <td>1</td>\n",
              "      <td>...</td>\n",
              "      <td>26.928</td>\n",
              "      <td>1.9</td>\n",
              "      <td>23.8</td>\n",
              "      <td>6.9</td>\n",
              "      <td>2.0</td>\n",
              "      <td>12.0</td>\n",
              "      <td>25.0</td>\n",
              "      <td>187.663</td>\n",
              "      <td>2838.803</td>\n",
              "      <td>1</td>\n",
              "    </tr>\n",
              "    <tr>\n",
              "      <th>28</th>\n",
              "      <td>2011</td>\n",
              "      <td>118</td>\n",
              "      <td>108</td>\n",
              "      <td>1</td>\n",
              "      <td>0</td>\n",
              "      <td>7</td>\n",
              "      <td>3</td>\n",
              "      <td>3</td>\n",
              "      <td>1</td>\n",
              "      <td>1</td>\n",
              "      <td>...</td>\n",
              "      <td>24.831</td>\n",
              "      <td>2.3</td>\n",
              "      <td>23.9</td>\n",
              "      <td>-12.4</td>\n",
              "      <td>2.0</td>\n",
              "      <td>14.0</td>\n",
              "      <td>64.0</td>\n",
              "      <td>179.643</td>\n",
              "      <td>2701.919</td>\n",
              "      <td>1</td>\n",
              "    </tr>\n",
              "  </tbody>\n",
              "</table>\n",
              "<p>3 rows × 55 columns</p>\n",
              "</div>"
            ],
            "text/plain": [
              "    year  team_id_b  team_id_p  inning  top  at_bat_num  pcount_at_bat  \\\n",
              "26  2011        118        108       1    0           7              1   \n",
              "27  2011        118        108       1    0           7              2   \n",
              "28  2011        118        108       1    0           7              3   \n",
              "\n",
              "    pcount_pitcher  balls  strikes     ...           ay  break_length  \\\n",
              "26               1      0        0     ...       22.579           2.8   \n",
              "27               2      0        1     ...       26.928           1.9   \n",
              "28               3      1        1     ...       24.831           2.3   \n",
              "\n",
              "    break_y  break_angle  type_confidence  zone  nasty  spin_dir spin_rate  \\\n",
              "26     23.9         -0.7              2.0   8.0   47.0   183.148  2519.455   \n",
              "27     23.8          6.9              2.0  12.0   25.0   187.663  2838.803   \n",
              "28     23.9        -12.4              2.0  14.0   64.0   179.643  2701.919   \n",
              "\n",
              "    modified_by  \n",
              "26            1  \n",
              "27            1  \n",
              "28            1  \n",
              "\n",
              "[3 rows x 55 columns]"
            ]
          },
          "metadata": {
            "tags": []
          },
          "execution_count": 12
        }
      ]
    },
    {
      "metadata": {
        "id": "Oq4UBotTdSQ5",
        "colab_type": "text"
      },
      "cell_type": "markdown",
      "source": [
        "While that may look like I am throwing away a large portion of the dataset by dropping all of these columns, many of these columns were almost completely null values. The remainder were either so sparse they contributed very little data or were in my view unrelated to the current prediction task. "
      ]
    },
    {
      "metadata": {
        "id": "KU_jrDMWvdhm",
        "colab_type": "code",
        "outputId": "8174dfbc-8a36-4bae-b7c7-8ad1d1e07665",
        "colab": {
          "base_uri": "https://localhost:8080/",
          "height": 1025
        }
      },
      "cell_type": "code",
      "source": [
        "pitch_clean.info()"
      ],
      "execution_count": 13,
      "outputs": [
        {
          "output_type": "stream",
          "text": [
            "<class 'pandas.core.frame.DataFrame'>\n",
            "Int64Index: 716681 entries, 26 to 718960\n",
            "Data columns (total 55 columns):\n",
            "year               716681 non-null int64\n",
            "team_id_b          716681 non-null int64\n",
            "team_id_p          716681 non-null int64\n",
            "inning             716681 non-null int64\n",
            "top                716681 non-null int64\n",
            "at_bat_num         716681 non-null int64\n",
            "pcount_at_bat      716681 non-null int64\n",
            "pcount_pitcher     716681 non-null int64\n",
            "balls              716681 non-null int64\n",
            "strikes            716681 non-null int64\n",
            "fouls              716681 non-null int64\n",
            "outs               716681 non-null int64\n",
            "is_final_pitch     716681 non-null int64\n",
            "final_balls        716681 non-null int64\n",
            "final_strikes      716681 non-null int64\n",
            "final_outs         716681 non-null int64\n",
            "start_tfs          716681 non-null int64\n",
            "batter_id          716681 non-null int64\n",
            "stand              716681 non-null object\n",
            "pitcher_id         716681 non-null int64\n",
            "p_throws           716681 non-null object\n",
            "event              716681 non-null object\n",
            "away_team_runs     716681 non-null int64\n",
            "home_team_runs     716681 non-null int64\n",
            "pitch_des          716681 non-null object\n",
            "pitch_id           716681 non-null int64\n",
            "type               716681 non-null object\n",
            "x                  716681 non-null float64\n",
            "y                  716681 non-null float64\n",
            "start_speed        716681 non-null float64\n",
            "end_speed          716681 non-null float64\n",
            "sz_top             716681 non-null float64\n",
            "sz_bot             716681 non-null float64\n",
            "pfx_x              716681 non-null float64\n",
            "pfx_z              716681 non-null float64\n",
            "px                 716681 non-null float64\n",
            "pz                 716681 non-null float64\n",
            "x0                 716681 non-null float64\n",
            "z0                 716681 non-null float64\n",
            "y0                 716681 non-null float64\n",
            "vx0                716681 non-null float64\n",
            "vz0                716681 non-null float64\n",
            "vy0                716681 non-null float64\n",
            "ax                 716681 non-null float64\n",
            "az                 716681 non-null float64\n",
            "ay                 716681 non-null float64\n",
            "break_length       716681 non-null float64\n",
            "break_y            716681 non-null float64\n",
            "break_angle        716681 non-null float64\n",
            "type_confidence    716681 non-null float64\n",
            "zone               716681 non-null float64\n",
            "nasty              716681 non-null float64\n",
            "spin_dir           716681 non-null float64\n",
            "spin_rate          716681 non-null float64\n",
            "modified_by        716681 non-null int64\n",
            "dtypes: float64(27), int64(23), object(5)\n",
            "memory usage: 306.2+ MB\n"
          ],
          "name": "stdout"
        }
      ]
    },
    {
      "metadata": {
        "id": "EIe7ylyEBJ4T",
        "colab_type": "code",
        "colab": {
          "base_uri": "https://localhost:8080/",
          "height": 34
        },
        "outputId": "c83ce9ae-b57b-405b-f3fc-3f3dc318ccbf"
      },
      "cell_type": "code",
      "source": [
        "pitch_clean.shape"
      ],
      "execution_count": 14,
      "outputs": [
        {
          "output_type": "execute_result",
          "data": {
            "text/plain": [
              "(716681, 55)"
            ]
          },
          "metadata": {
            "tags": []
          },
          "execution_count": 14
        }
      ]
    },
    {
      "metadata": {
        "id": "qPUlPOlr7AJk",
        "colab_type": "text"
      },
      "cell_type": "markdown",
      "source": [
        "The random forest cannot run with several of the columns being represented as categorical objects. While it would be convenient to simpy discard these columns like I did with columns above, but in my view these columns do contain useful and relevant information so I would like to preserve it. To circumvent this fact I will utilize hot encoding to convert these objects into int's."
      ]
    },
    {
      "metadata": {
        "id": "3NmYDv2X5jin",
        "colab_type": "code",
        "colab": {}
      },
      "cell_type": "code",
      "source": [
        "from sklearn.preprocessing import LabelBinarizer\n",
        "type_lb = LabelBinarizer()\n",
        "stand_lb = LabelBinarizer()\n",
        "p_throws_lb = LabelBinarizer()\n",
        "pitch_des_lb = LabelBinarizer()\n",
        "event_lb = LabelBinarizer()\n",
        "#pitch_type_lb = LabelBinarizer()\n",
        "\n",
        "L_type = type_lb.fit_transform(pitch_clean.type.values)\n",
        "L_stand = stand_lb.fit_transform(pitch_clean.stand.values)\n",
        "L_p_throws = p_throws_lb.fit_transform(pitch_clean.p_throws.values)\n",
        "L_pitch_des = pitch_des_lb.fit_transform(pitch_clean.pitch_des.values)\n",
        "L_event = event_lb.fit_transform(pitch_clean.event.values)\n",
        "#L_pitch_type = pitch_type_lb.fit_transform(pitch.pitch_type.values)"
      ],
      "execution_count": 0,
      "outputs": []
    },
    {
      "metadata": {
        "id": "DUoNicLr-x6z",
        "colab_type": "code",
        "outputId": "3fe757a2-953f-4037-ec5a-a64b3015de73",
        "colab": {
          "base_uri": "https://localhost:8080/",
          "height": 185
        }
      },
      "cell_type": "code",
      "source": [
        "print(L_type[0:10])\n",
        "#print(L_stand)\n",
        "#print(L_p_throws)\n",
        "#print(L_pitch_des)\n",
        "#print(L_event)\n"
      ],
      "execution_count": 16,
      "outputs": [
        {
          "output_type": "stream",
          "text": [
            "[[0 1 0]\n",
            " [1 0 0]\n",
            " [1 0 0]\n",
            " [0 1 0]\n",
            " [0 1 0]\n",
            " [1 0 0]\n",
            " [0 1 0]\n",
            " [0 1 0]\n",
            " [0 1 0]\n",
            " [0 1 0]]\n"
          ],
          "name": "stdout"
        }
      ]
    },
    {
      "metadata": {
        "id": "P7Wh0ZzA_9sH",
        "colab_type": "code",
        "outputId": "8efa15a5-0c17-4edf-e56c-8bb57ba2b9fe",
        "colab": {
          "base_uri": "https://localhost:8080/",
          "height": 101
        }
      },
      "cell_type": "code",
      "source": [
        "print(L_type.shape)\n",
        "print(L_stand.shape)\n",
        "print(L_p_throws.shape)\n",
        "print(L_pitch_des.shape)\n",
        "print(L_event.shape)\n"
      ],
      "execution_count": 17,
      "outputs": [
        {
          "output_type": "stream",
          "text": [
            "(716681, 3)\n",
            "(716681, 1)\n",
            "(716681, 1)\n",
            "(716681, 18)\n",
            "(716681, 30)\n"
          ],
          "name": "stdout"
        }
      ]
    },
    {
      "metadata": {
        "id": "-m6vN2gwaeoN",
        "colab_type": "text"
      },
      "cell_type": "markdown",
      "source": [
        "Using LabelBinarizer I have replaced the categorical (object type) data into columns of binary integers, this will preserve the information of these columns while still allowing them to be processed by the random forest. Now I will drop the original columns from the dataset and replace them with the numpy arrays generated by LabelBinarizer. I'll use the function I wrote for the larger numpy arrays."
      ]
    },
    {
      "metadata": {
        "id": "e2Wcif1pUTow",
        "colab_type": "code",
        "colab": {}
      },
      "cell_type": "code",
      "source": [
        "pitch_pure = pitch_clean.drop(['type', 'stand', 'p_throws', 'pitch_des', 'event', 'nasty'], axis=1)\n"
      ],
      "execution_count": 0,
      "outputs": []
    },
    {
      "metadata": {
        "id": "L1uflVcCBpw6",
        "colab_type": "code",
        "colab": {}
      },
      "cell_type": "code",
      "source": [
        "pitch_pure['L_type_0'] = L_type[:, 0]\n",
        "pitch_pure['L_type_1'] = L_type[:, 1]\n",
        "pitch_pure['L_type_2'] = L_type[:, 2]\n",
        "pitch_pure['L_stand'] = L_stand[:, 0]\n",
        "pitch_pure['L_p_throws'] = L_p_throws[:, 0]"
      ],
      "execution_count": 0,
      "outputs": []
    },
    {
      "metadata": {
        "id": "D0eYWsG0wZ8n",
        "colab_type": "code",
        "colab": {}
      },
      "cell_type": "code",
      "source": [
        "def column_creator(df, column, column_name):\n",
        "  for i in range(column.shape[1]):\n",
        "    df[column_name + '_' + str(i)] = column[:, i] "
      ],
      "execution_count": 0,
      "outputs": []
    },
    {
      "metadata": {
        "id": "R7RNKIMYepvN",
        "colab_type": "code",
        "colab": {}
      },
      "cell_type": "code",
      "source": [
        "column_creator(pitch_pure, L_pitch_des, 'L_pitch_des')\n",
        "column_creator(pitch_pure, L_event, 'L_event')\n",
        "#column_creator(pitch, L_pitch_type, 'L_pitch_type')"
      ],
      "execution_count": 0,
      "outputs": []
    },
    {
      "metadata": {
        "id": "svk0nmetWSlg",
        "colab_type": "text"
      },
      "cell_type": "markdown",
      "source": [
        "Now to make sure the columns are being properly added to the original dataset."
      ]
    },
    {
      "metadata": {
        "id": "A9ArFZRVSACq",
        "colab_type": "code",
        "colab": {
          "base_uri": "https://localhost:8080/",
          "height": 118
        },
        "outputId": "571b30ca-4aae-4994-becf-7e21e3e10a93"
      },
      "cell_type": "code",
      "source": [
        "pitch_pure.columns\n"
      ],
      "execution_count": 22,
      "outputs": [
        {
          "output_type": "execute_result",
          "data": {
            "text/plain": [
              "Index(['year', 'team_id_b', 'team_id_p', 'inning', 'top', 'at_bat_num',\n",
              "       'pcount_at_bat', 'pcount_pitcher', 'balls', 'strikes',\n",
              "       ...\n",
              "       'L_event_20', 'L_event_21', 'L_event_22', 'L_event_23', 'L_event_24',\n",
              "       'L_event_25', 'L_event_26', 'L_event_27', 'L_event_28', 'L_event_29'],\n",
              "      dtype='object', length=102)"
            ]
          },
          "metadata": {
            "tags": []
          },
          "execution_count": 22
        }
      ]
    },
    {
      "metadata": {
        "id": "fIZeodN4WfgB",
        "colab_type": "text"
      },
      "cell_type": "markdown",
      "source": [
        "Make sure that all of the objects now either floats or int's"
      ]
    },
    {
      "metadata": {
        "id": "G2ZFaLt569Ty",
        "colab_type": "code",
        "colab": {
          "base_uri": "https://localhost:8080/",
          "height": 134
        },
        "outputId": "376eda0d-1f0e-435c-9681-32fc57830d72"
      },
      "cell_type": "code",
      "source": [
        "print(pitch_pure.info())\n",
        "print(pitch_pure.shape)"
      ],
      "execution_count": 23,
      "outputs": [
        {
          "output_type": "stream",
          "text": [
            "<class 'pandas.core.frame.DataFrame'>\n",
            "Int64Index: 716681 entries, 26 to 718960\n",
            "Columns: 102 entries, year to L_event_29\n",
            "dtypes: float64(26), int64(76)\n",
            "memory usage: 563.2 MB\n",
            "None\n",
            "(716681, 102)\n"
          ],
          "name": "stdout"
        }
      ]
    },
    {
      "metadata": {
        "id": "HLAfNH62coDs",
        "colab_type": "text"
      },
      "cell_type": "markdown",
      "source": [
        "Random Forests also do not process nan values, so I must identify which columns contain such values and then convert them into a form that is passable for the classifier, while not biasing the data too severely. Towards this purpose I chose to replace the nan values with the mean of their respective column as a 0 for each nan value would be more detrimental. "
      ]
    },
    {
      "metadata": {
        "id": "lIXPClHUEs17",
        "colab_type": "code",
        "colab": {
          "base_uri": "https://localhost:8080/",
          "height": 1058
        },
        "outputId": "2a1b59a5-fc08-4282-9a91-a3d19f8ddc58"
      },
      "cell_type": "code",
      "source": [
        "pitch_pure.isnull().any()\n",
        "#print(pitch_pure.isna().any()[0:50])\n",
        "print(pitch_pure.isna().any()[0:102])"
      ],
      "execution_count": 24,
      "outputs": [
        {
          "output_type": "stream",
          "text": [
            "year              False\n",
            "team_id_b         False\n",
            "team_id_p         False\n",
            "inning            False\n",
            "top               False\n",
            "at_bat_num        False\n",
            "pcount_at_bat     False\n",
            "pcount_pitcher    False\n",
            "balls             False\n",
            "strikes           False\n",
            "fouls             False\n",
            "outs              False\n",
            "is_final_pitch    False\n",
            "final_balls       False\n",
            "final_strikes     False\n",
            "final_outs        False\n",
            "start_tfs         False\n",
            "batter_id         False\n",
            "pitcher_id        False\n",
            "away_team_runs    False\n",
            "home_team_runs    False\n",
            "pitch_id          False\n",
            "x                 False\n",
            "y                 False\n",
            "start_speed       False\n",
            "end_speed         False\n",
            "sz_top            False\n",
            "sz_bot            False\n",
            "pfx_x             False\n",
            "pfx_z             False\n",
            "                  ...  \n",
            "L_event_0         False\n",
            "L_event_1         False\n",
            "L_event_2         False\n",
            "L_event_3         False\n",
            "L_event_4         False\n",
            "L_event_5         False\n",
            "L_event_6         False\n",
            "L_event_7         False\n",
            "L_event_8         False\n",
            "L_event_9         False\n",
            "L_event_10        False\n",
            "L_event_11        False\n",
            "L_event_12        False\n",
            "L_event_13        False\n",
            "L_event_14        False\n",
            "L_event_15        False\n",
            "L_event_16        False\n",
            "L_event_17        False\n",
            "L_event_18        False\n",
            "L_event_19        False\n",
            "L_event_20        False\n",
            "L_event_21        False\n",
            "L_event_22        False\n",
            "L_event_23        False\n",
            "L_event_24        False\n",
            "L_event_25        False\n",
            "L_event_26        False\n",
            "L_event_27        False\n",
            "L_event_28        False\n",
            "L_event_29        False\n",
            "Length: 102, dtype: bool\n"
          ],
          "name": "stdout"
        }
      ]
    },
    {
      "metadata": {
        "id": "MguubokzdBg8",
        "colab_type": "text"
      },
      "cell_type": "markdown",
      "source": [
        "Imputer requires the newest version of scikit-learn\n",
        "\n"
      ]
    },
    {
      "metadata": {
        "id": "ZvgdmcwFX8Fr",
        "colab_type": "code",
        "colab": {}
      },
      "cell_type": "code",
      "source": [
        "#!pip uninstall scikit-learn \n",
        "#!pip install Cython\n",
        "#!pip install git+git://github.com/scikit-learn/scikit-learn.git"
      ],
      "execution_count": 0,
      "outputs": []
    },
    {
      "metadata": {
        "id": "azxYMR5yII6y",
        "colab_type": "code",
        "colab": {
          "base_uri": "https://localhost:8080/",
          "height": 101
        },
        "outputId": "6bf5bd68-3b93-46fa-b6db-32bd7fb3d000"
      },
      "cell_type": "code",
      "source": [
        "#!pip freeze | grep scikit\n",
        "#!pip install scipy\n",
        "from numpy import nan\n",
        "import scipy\n",
        "import sklearn\n",
        "from sklearn.preprocessing import Imputer  \n",
        "imp = Imputer(copy=True, missing_values=nan, strategy='mean', verbose=0)\n",
        "imp.fit(pitch_pure['start_speed'].reshape(-1, 1))\n",
        "pitch_pure['start_speed'] = imp.transform(pitch_pure['start_speed'].reshape(-1, 1))           \n",
        "print(pitch_pure['start_speed'].isna().any())"
      ],
      "execution_count": 26,
      "outputs": [
        {
          "output_type": "stream",
          "text": [
            "False\n"
          ],
          "name": "stdout"
        },
        {
          "output_type": "stream",
          "text": [
            "/usr/local/lib/python3.6/dist-packages/ipykernel_launcher.py:6: FutureWarning: reshape is deprecated and will raise in a subsequent release. Please use .values.reshape(...) instead\n",
            "  \n",
            "/usr/local/lib/python3.6/dist-packages/ipykernel_launcher.py:7: FutureWarning: reshape is deprecated and will raise in a subsequent release. Please use .values.reshape(...) instead\n",
            "  import sys\n"
          ],
          "name": "stderr"
        }
      ]
    },
    {
      "metadata": {
        "id": "sxB-iMXIjNTV",
        "colab_type": "code",
        "colab": {
          "base_uri": "https://localhost:8080/",
          "height": 84
        },
        "outputId": "6d8c7986-f02a-4f6e-a0bc-bfba0b291ad3"
      },
      "cell_type": "code",
      "source": [
        "imp.fit(pitch_pure['end_speed'].reshape(-1, 1))\n",
        "pitch_pure['end_speed'] = imp.transform(pitch_pure['end_speed'].reshape(-1, 1)) "
      ],
      "execution_count": 27,
      "outputs": [
        {
          "output_type": "stream",
          "text": [
            "/usr/local/lib/python3.6/dist-packages/ipykernel_launcher.py:1: FutureWarning: reshape is deprecated and will raise in a subsequent release. Please use .values.reshape(...) instead\n",
            "  \"\"\"Entry point for launching an IPython kernel.\n",
            "/usr/local/lib/python3.6/dist-packages/ipykernel_launcher.py:2: FutureWarning: reshape is deprecated and will raise in a subsequent release. Please use .values.reshape(...) instead\n",
            "  \n"
          ],
          "name": "stderr"
        }
      ]
    },
    {
      "metadata": {
        "id": "v1AV2aTTXUK8",
        "colab_type": "text"
      },
      "cell_type": "markdown",
      "source": [
        "This function takes in a column converts it's nan's to means and then outputs a boolean test of the column as confirmation."
      ]
    },
    {
      "metadata": {
        "id": "zVrNnHrBj14F",
        "colab_type": "code",
        "colab": {}
      },
      "cell_type": "code",
      "source": [
        "def nan_buster(df, column):\n",
        "  imp.fit(df[column].reshape(-1, 1))\n",
        "  df[column] = imp.transform(df[column].reshape(-1, 1))\n",
        "  print(df[column].isna().any())"
      ],
      "execution_count": 0,
      "outputs": []
    },
    {
      "metadata": {
        "id": "smbNzY7xla46",
        "colab_type": "code",
        "colab": {
          "base_uri": "https://localhost:8080/",
          "height": 101
        },
        "outputId": "a49641fe-118a-4aad-a030-902039fd05e8"
      },
      "cell_type": "code",
      "source": [
        "nan_buster(pitch_pure, 'sz_top')"
      ],
      "execution_count": 29,
      "outputs": [
        {
          "output_type": "stream",
          "text": [
            "False\n"
          ],
          "name": "stdout"
        },
        {
          "output_type": "stream",
          "text": [
            "/usr/local/lib/python3.6/dist-packages/ipykernel_launcher.py:2: FutureWarning: reshape is deprecated and will raise in a subsequent release. Please use .values.reshape(...) instead\n",
            "  \n",
            "/usr/local/lib/python3.6/dist-packages/ipykernel_launcher.py:3: FutureWarning: reshape is deprecated and will raise in a subsequent release. Please use .values.reshape(...) instead\n",
            "  This is separate from the ipykernel package so we can avoid doing imports until\n"
          ],
          "name": "stderr"
        }
      ]
    },
    {
      "metadata": {
        "id": "o54geXfVmnwK",
        "colab_type": "code",
        "colab": {
          "base_uri": "https://localhost:8080/",
          "height": 437
        },
        "outputId": "a975dd92-c2f2-48e1-9145-5c829313249a"
      },
      "cell_type": "code",
      "source": [
        "nan_buster(pitch_pure, 'sz_bot')\n",
        "nan_buster(pitch_pure, 'pfx_x')\n",
        "nan_buster(pitch_pure, 'pfx_z')\n",
        "nan_buster(pitch_pure, 'px')\n",
        "nan_buster(pitch_pure, 'pz')\n",
        "nan_buster(pitch_pure, 'x0')\n",
        "nan_buster(pitch_pure, 'z0')\n",
        "nan_buster(pitch_pure, 'y0')\n",
        "nan_buster(pitch_pure, 'vx0')\n",
        "nan_buster(pitch_pure, 'vz0')\n",
        "nan_buster(pitch_pure, 'vy0')\n",
        "nan_buster(pitch_pure, 'ax')\n",
        "nan_buster(pitch_pure, 'az')\n",
        "nan_buster(pitch_pure, 'ay')\n",
        "nan_buster(pitch_pure, 'break_length')\n",
        "nan_buster(pitch_pure, 'break_y')\n",
        "nan_buster(pitch_pure, 'break_angle')\n",
        "nan_buster(pitch_pure, 'type_confidence')\n",
        "nan_buster(pitch_pure, 'zone')\n",
        "nan_buster(pitch_pure, 'spin_dir')\n",
        "nan_buster(pitch_pure, 'spin_rate')"
      ],
      "execution_count": 30,
      "outputs": [
        {
          "output_type": "stream",
          "text": [
            "False\n"
          ],
          "name": "stdout"
        },
        {
          "output_type": "stream",
          "text": [
            "/usr/local/lib/python3.6/dist-packages/ipykernel_launcher.py:2: FutureWarning: reshape is deprecated and will raise in a subsequent release. Please use .values.reshape(...) instead\n",
            "  \n",
            "/usr/local/lib/python3.6/dist-packages/ipykernel_launcher.py:3: FutureWarning: reshape is deprecated and will raise in a subsequent release. Please use .values.reshape(...) instead\n",
            "  This is separate from the ipykernel package so we can avoid doing imports until\n"
          ],
          "name": "stderr"
        },
        {
          "output_type": "stream",
          "text": [
            "False\n",
            "False\n",
            "False\n",
            "False\n",
            "False\n",
            "False\n",
            "False\n",
            "False\n",
            "False\n",
            "False\n",
            "False\n",
            "False\n",
            "False\n",
            "False\n",
            "False\n",
            "False\n",
            "False\n",
            "False\n",
            "False\n",
            "False\n"
          ],
          "name": "stdout"
        }
      ]
    },
    {
      "metadata": {
        "id": "Kuhk887kX7OA",
        "colab_type": "text"
      },
      "cell_type": "markdown",
      "source": [
        "Now confirm all columns sucessfully contain no nan's"
      ]
    },
    {
      "metadata": {
        "id": "Y4glCEC8oGIq",
        "colab_type": "code",
        "colab": {
          "base_uri": "https://localhost:8080/",
          "height": 1058
        },
        "outputId": "1bc29f20-0ca7-4869-e252-99a549687b26"
      },
      "cell_type": "code",
      "source": [
        "print(pitch_pure.isna().any())"
      ],
      "execution_count": 31,
      "outputs": [
        {
          "output_type": "stream",
          "text": [
            "year              False\n",
            "team_id_b         False\n",
            "team_id_p         False\n",
            "inning            False\n",
            "top               False\n",
            "at_bat_num        False\n",
            "pcount_at_bat     False\n",
            "pcount_pitcher    False\n",
            "balls             False\n",
            "strikes           False\n",
            "fouls             False\n",
            "outs              False\n",
            "is_final_pitch    False\n",
            "final_balls       False\n",
            "final_strikes     False\n",
            "final_outs        False\n",
            "start_tfs         False\n",
            "batter_id         False\n",
            "pitcher_id        False\n",
            "away_team_runs    False\n",
            "home_team_runs    False\n",
            "pitch_id          False\n",
            "x                 False\n",
            "y                 False\n",
            "start_speed       False\n",
            "end_speed         False\n",
            "sz_top            False\n",
            "sz_bot            False\n",
            "pfx_x             False\n",
            "pfx_z             False\n",
            "                  ...  \n",
            "L_event_0         False\n",
            "L_event_1         False\n",
            "L_event_2         False\n",
            "L_event_3         False\n",
            "L_event_4         False\n",
            "L_event_5         False\n",
            "L_event_6         False\n",
            "L_event_7         False\n",
            "L_event_8         False\n",
            "L_event_9         False\n",
            "L_event_10        False\n",
            "L_event_11        False\n",
            "L_event_12        False\n",
            "L_event_13        False\n",
            "L_event_14        False\n",
            "L_event_15        False\n",
            "L_event_16        False\n",
            "L_event_17        False\n",
            "L_event_18        False\n",
            "L_event_19        False\n",
            "L_event_20        False\n",
            "L_event_21        False\n",
            "L_event_22        False\n",
            "L_event_23        False\n",
            "L_event_24        False\n",
            "L_event_25        False\n",
            "L_event_26        False\n",
            "L_event_27        False\n",
            "L_event_28        False\n",
            "L_event_29        False\n",
            "Length: 102, dtype: bool\n"
          ],
          "name": "stdout"
        }
      ]
    },
    {
      "metadata": {
        "id": "HFkg6eTu-vjQ",
        "colab_type": "code",
        "colab": {
          "base_uri": "https://localhost:8080/",
          "height": 118
        },
        "outputId": "d83aa3ee-e0ba-4e08-ffdc-92dd180da888"
      },
      "cell_type": "code",
      "source": [
        "print(pitch_pure.columns)"
      ],
      "execution_count": 32,
      "outputs": [
        {
          "output_type": "stream",
          "text": [
            "Index(['year', 'team_id_b', 'team_id_p', 'inning', 'top', 'at_bat_num',\n",
            "       'pcount_at_bat', 'pcount_pitcher', 'balls', 'strikes',\n",
            "       ...\n",
            "       'L_event_20', 'L_event_21', 'L_event_22', 'L_event_23', 'L_event_24',\n",
            "       'L_event_25', 'L_event_26', 'L_event_27', 'L_event_28', 'L_event_29'],\n",
            "      dtype='object', length=102)\n"
          ],
          "name": "stdout"
        }
      ]
    },
    {
      "metadata": {
        "id": "UKF6kPsxPMXu",
        "colab_type": "text"
      },
      "cell_type": "markdown",
      "source": [
        "A significant portion of the data is stored as float64, however RandomForests currently cannot handle this data type and so I converted the frame to float32"
      ]
    },
    {
      "metadata": {
        "id": "sTEMll9h9MrW",
        "colab_type": "code",
        "colab": {}
      },
      "cell_type": "code",
      "source": [
        "pitch_pure = pitch_pure.astype(np.float32)"
      ],
      "execution_count": 0,
      "outputs": []
    },
    {
      "metadata": {
        "id": "nlZZmGIzSkEv",
        "colab_type": "code",
        "colab": {
          "base_uri": "https://localhost:8080/",
          "height": 101
        },
        "outputId": "60418557-80b3-4a83-89a0-fc8b3c888919"
      },
      "cell_type": "code",
      "source": [
        "pitch_pure.info()"
      ],
      "execution_count": 34,
      "outputs": [
        {
          "output_type": "stream",
          "text": [
            "<class 'pandas.core.frame.DataFrame'>\n",
            "Int64Index: 716681 entries, 26 to 718960\n",
            "Columns: 102 entries, year to L_event_29\n",
            "dtypes: float32(102)\n",
            "memory usage: 284.3 MB\n"
          ],
          "name": "stdout"
        }
      ]
    },
    {
      "metadata": {
        "id": "7MjrKO4rQDai",
        "colab_type": "text"
      },
      "cell_type": "markdown",
      "source": [
        "Below is a command used to sub-sample the dataset as I am iterating through tests of the Randomforest to make the computation proceed faster, and  then once all the code and data is properly oriented introduce the entire dataset."
      ]
    },
    {
      "metadata": {
        "id": "dUxlFj8yP8PB",
        "colab_type": "code",
        "colab": {}
      },
      "cell_type": "code",
      "source": [
        "#pitch_pure = pd.DataFrame.sample(pitch_pure, frac = .1, random_state=42)"
      ],
      "execution_count": 0,
      "outputs": []
    },
    {
      "metadata": {
        "id": "cqYP6RvYQ2VD",
        "colab_type": "text"
      },
      "cell_type": "markdown",
      "source": [
        "A useful tool for dividing up the data to train and test."
      ]
    },
    {
      "metadata": {
        "id": "9TYHOTe9m8d9",
        "colab_type": "code",
        "colab": {}
      },
      "cell_type": "code",
      "source": [
        "from sklearn.model_selection import train_test_split\n",
        "X_train, X_test, y_train, y_test = train_test_split(pitch_pure, pitch['pitch_type'], test_size = 0.2)\n"
      ],
      "execution_count": 0,
      "outputs": []
    },
    {
      "metadata": {
        "id": "9bnuv1OEwi8u",
        "colab_type": "code",
        "outputId": "3706d208-3145-4fcc-cfb8-05c37abb7869",
        "colab": {
          "base_uri": "https://localhost:8080/",
          "height": 50
        }
      },
      "cell_type": "code",
      "source": [
        "from sklearn.ensemble import RandomForestClassifier \n",
        "\n",
        "forest = RandomForestClassifier(n_estimators=10, max_features=10)\n",
        "forest.fit(X_train, y_train)\n",
        "forest.score(X_train, y_train)\n",
        "print(\"Accuracy on training set: {:.3f}\".format(forest.score(X_train, y_train)))\n",
        "print(\"Accuracy on test set: {:.3f}\".format(forest.score(X_test, y_test)))\n"
      ],
      "execution_count": 37,
      "outputs": [
        {
          "output_type": "stream",
          "text": [
            "Accuracy on training set: 0.995\n",
            "Accuracy on test set: 0.865\n"
          ],
          "name": "stdout"
        }
      ]
    },
    {
      "metadata": {
        "id": "ITtUtYUoY3vd",
        "colab_type": "text"
      },
      "cell_type": "markdown",
      "source": [
        "87% accuracy on the test set! While I am pretty happy with the performance of the model some things I would incorporate in future models as I deploy them in the real world be to account for the sequence aspect present in real games so that the model can be aware of what the pitcher threw in the past 2 or 3 pitches as pitchers are known to \"set up\" pitches."
      ]
    },
    {
      "metadata": {
        "id": "zqGlYXEHq4Hm",
        "colab_type": "code",
        "colab": {
          "base_uri": "https://localhost:8080/",
          "height": 162
        },
        "outputId": "da0a6e4a-512f-45ee-f756-a0f3c1a272ae"
      },
      "cell_type": "code",
      "source": [
        "plot_feature_importances_cancer(forest)"
      ],
      "execution_count": 38,
      "outputs": [
        {
          "output_type": "error",
          "ename": "NameError",
          "evalue": "ignored",
          "traceback": [
            "\u001b[0;31m---------------------------------------------------------------------------\u001b[0m",
            "\u001b[0;31mNameError\u001b[0m                                 Traceback (most recent call last)",
            "\u001b[0;32m<ipython-input-38-5383cb10e09e>\u001b[0m in \u001b[0;36m<module>\u001b[0;34m()\u001b[0m\n\u001b[0;32m----> 1\u001b[0;31m \u001b[0mplot_feature_importances_cancer\u001b[0m\u001b[0;34m(\u001b[0m\u001b[0mforest\u001b[0m\u001b[0;34m)\u001b[0m\u001b[0;34m\u001b[0m\u001b[0;34m\u001b[0m\u001b[0m\n\u001b[0m",
            "\u001b[0;31mNameError\u001b[0m: name 'plot_feature_importances_cancer' is not defined"
          ]
        }
      ]
    }
  ]
}